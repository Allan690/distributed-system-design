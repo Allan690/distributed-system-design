{
 "cells": [
  {
   "cell_type": "markdown",
   "metadata": {},
   "source": [
    "# Designing Amazon - Online Shopping System\n",
    "Let's design an online retail store\n",
    "\n",
    "\n",
    "## Requirements and Goals of the System\n",
    "1. Users should be able to:\n",
    "    - Add new products to sell.\n",
    "    - Search products by name or category.\n",
    "    - Buy products only if they are registered members.\n",
    "    - Remove/modify product items in their shopping cart.\n",
    "    - Checkout and buy items in the shopping cart.\n",
    "    - Rate and review a product.\n",
    "    - Specify a shipping address where their order will be delivered.\n",
    "    - Cancel and order if it hasn't been shipped.\n",
    "    - Pay via debit or credit cards\n",
    "    - Track their shipment to see the current state of their order.\n",
    "2. The system should be able to:\n",
    "    - Send a notification whenever the shipping status of the order changes."
   ]
  },
  {
   "cell_type": "code",
   "execution_count": null,
   "metadata": {},
   "outputs": [],
   "source": []
  }
 ],
 "metadata": {
  "kernelspec": {
   "display_name": "Python 3",
   "language": "python",
   "name": "python3"
  },
  "language_info": {
   "codemirror_mode": {
    "name": "ipython",
    "version": 3
   },
   "file_extension": ".py",
   "mimetype": "text/x-python",
   "name": "python",
   "nbconvert_exporter": "python",
   "pygments_lexer": "ipython3",
   "version": "3.7.4"
  }
 },
 "nbformat": 4,
 "nbformat_minor": 2
}
