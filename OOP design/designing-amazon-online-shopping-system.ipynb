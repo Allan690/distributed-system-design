{
 "cells": [
  {
   "cell_type": "markdown",
   "metadata": {},
   "source": [
    "# Designing Amazon - Online Shopping System\n",
    "Let's design an online retail store.\n",
    "For the sake of this problem, we'll focus on Amazon's retail business where users can buy/sell products.\n",
    "\n",
    "\n",
    "## Requirements and Goals of the System\n",
    "1. Users should be able to:\n",
    "    - Add new products to sell.\n",
    "    - Search products by name or category.\n",
    "    - Buy products only if they are registered members.\n",
    "    - Remove/modify product items in their shopping cart.\n",
    "    - Checkout and buy items in the shopping cart.\n",
    "    - Rate and review a product.\n",
    "    - Specify a shipping address where their order will be delivered.\n",
    "    - Cancel and order if it hasn't been shipped.\n",
    "    - Pay via debit or credit cards\n",
    "    - Track their shipment to see the current state of their order.\n",
    "2. The system should be able to:\n",
    "    - Send a notification whenever the shipping status of the order changes."
   ]
  },
  {
   "cell_type": "markdown",
   "metadata": {},
   "source": [
    "## Use Case Diagram\n",
    "We have four main actors in the system:\n",
    "\n",
    "- **Admin:** Mainly responsible for account management, adding and modifying new product categories.\n",
    "\n",
    "- **Guest:** All guests can search the catalog, add/remove items on the shopping cart, and also become registered members.\n",
    "- **Member:** In addition to what guests can do, members can place orders and add new products to sell\n",
    "- **System:** Mainly responsible for sending notifications for orders and shipping updates.\n",
    "\n",
    "\n",
    "Top use cases therefore include:\n",
    "1. Add/Update products: whenever a product is added/modified, update the catalog.\n",
    "2. Search for products by their name or category.\n",
    "3. Add/remove product items from shopping cart.\n",
    "4. Checkout to buy a product item in the shopping cart.\n",
    "5. Make a payment to place an order.\n",
    "6. Add a new product category.\n",
    "7. Send notifications about order shipment updates to members. \n"
   ]
  },
  {
   "cell_type": "markdown",
   "metadata": {},
   "source": [
    "## Sequence Diagram\n",
    "1. Here's a sequence diagram for when a user searches for a product:\n",
    "\n",
    "![](images/oop/amazon-s-searching.png)\n",
    "\n",
    "2. For adding items to the shopping cart we can have something like this:\n",
    "![](images/oop/amazon-s-shoppingcart.svg)\n",
    "\n",
    "3. H"
   ]
  },
  {
   "cell_type": "code",
   "execution_count": null,
   "metadata": {},
   "outputs": [],
   "source": []
  }
 ],
 "metadata": {
  "kernelspec": {
   "display_name": "Python 3",
   "language": "python",
   "name": "python3"
  },
  "language_info": {
   "codemirror_mode": {
    "name": "ipython",
    "version": 3
   },
   "file_extension": ".py",
   "mimetype": "text/x-python",
   "name": "python",
   "nbconvert_exporter": "python",
   "pygments_lexer": "ipython3",
   "version": "3.7.4"
  }
 },
 "nbformat": 4,
 "nbformat_minor": 2
}
