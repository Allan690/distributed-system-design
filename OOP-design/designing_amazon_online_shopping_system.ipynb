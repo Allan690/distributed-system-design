{
 "cells": [
  {
   "cell_type": "markdown",
   "metadata": {},
   "source": [
    "# Designing Amazon - Online Shopping System\n",
    "Let's design an online retail store.\n",
    "For the sake of this problem, we'll focus on Amazon's retail business where users can buy/sell products.\n",
    "\n",
    "\n",
    "## Requirements and Goals of the System\n",
    "1. Users should be able to:\n",
    "    - Add new products to sell.\n",
    "    - Search products by name or category.\n",
    "    - Buy products only if they are registered members.\n",
    "    - Remove/modify product items in their shopping cart.\n",
    "    - Checkout and buy items in the shopping cart.\n",
    "    - Rate and review a product.\n",
    "    - Specify a shipping address where their order will be delivered.\n",
    "    - Cancel and order if it hasn't been shipped.\n",
    "    - Pay via debit or credit cards\n",
    "    - Track their shipment to see the current state of their order.\n",
    "2. The system should be able to:\n",
    "    - Send a notification whenever the shipping status of the order changes."
   ]
  },
  {
   "cell_type": "markdown",
   "metadata": {},
   "source": [
    "## Use Case Diagram\n",
    "We have four main actors in the system:\n",
    "\n",
    "- **Admin:** Mainly responsible for account management, adding and modifying new product categories.\n",
    "\n",
    "- **Guest:** All guests can search the catalog, add/remove items on the shopping cart, and also become registered members.\n",
    "- **Member:** In addition to what guests can do, members can place orders and add new products to sell\n",
    "- **System:** Mainly responsible for sending notifications for orders and shipping updates.\n",
    "\n",
    "\n",
    "Top use cases therefore include:\n",
    "1. Add/Update products: whenever a product is added/modified, update the catalog.\n",
    "2. Search for products by their name or category.\n",
    "3. Add/remove product items from shopping cart.\n",
    "4. Checkout to buy a product item in the shopping cart.\n",
    "5. Make a payment to place an order.\n",
    "6. Add a new product category.\n",
    "7. Send notifications about order shipment updates to members. \n"
   ]
  },
  {
   "cell_type": "markdown",
   "metadata": {},
   "source": [
    "### Code\n",
    "\n",
    "First we define the enums, datatypes and constants that'll be used by the rest of the classes:"
   ]
  },
  {
   "cell_type": "code",
   "execution_count": 2,
   "metadata": {},
   "outputs": [],
   "source": [
    "from enum import Enum\n",
    "\n",
    "\n",
    "class AccountStatus(Enum):\n",
    "    ACTIVE, BLOCKED, BANNED, COMPROMISED, ARCHIVED, UNKNOWN = 1, 2, 3, 4, 5, 6\n",
    "\n",
    "class OrderStatus(Enum):\n",
    "    UNSHIPPED, SHIPPED, PENDING, COMPLETED, CANCELED, REFUND_APPLIED = 1, 2, 3, 4, 5, 6\n",
    "\n",
    "class ShipmentStatus(Enum):\n",
    "    PENDING, SHIPPED, DELIVERED, ON_HOLD = 1, 2, 3, 4\n",
    "    \n",
    "class PaymentStatus(Enum):\n",
    "    UNPAID, PENDING, COMPLETED, FILLED, DECLINED = 1, 2, 3, 4, 5\n",
    "    CANCELLED, ABANDONED, SETTLING, SETTLED, REFUNDED = 6, 7, 8, 9, 10\n",
    "    "
   ]
  },
  {
   "cell_type": "markdown",
   "metadata": {},
   "source": [
    "#### Account, Customer, Admin and Guest classes \n",
    "These classes represent different people that interact with the system."
   ]
  },
  {
   "cell_type": "code",
   "execution_count": 3,
   "metadata": {},
   "outputs": [],
   "source": [
    "from abc import ABC, abstractmethod\n",
    "\n",
    "\n",
    "class Account:\n",
    "    \"\"\"Python strives to adhere to Uniform Access Principle. \n",
    "    \n",
    "    So there's no need for getter and setter methods. \n",
    "    \"\"\"\n",
    "    \n",
    "    def __init__(self, username, password, name, email, phone, shipping_address, status:AccountStatus):\n",
    "        # \"private\" attributes \n",
    "        self._username = username\n",
    "        self._password = password\n",
    "        self._email = email\n",
    "        self._phone = phone\n",
    "        self._shipping_address = shipping_address\n",
    "        self._status = status.ACTIVE\n",
    "        self._credit_cards = []\n",
    "        self._bank_accounts = []\n",
    "        \n",
    "    def add_product(self, product):\n",
    "        pass\n",
    "    \n",
    "    def add_product_review(self, review):\n",
    "        pass\n",
    "    \n",
    "    def reset_password(self):\n",
    "        pass\n",
    "\n",
    "\n",
    "class Customer(ABC):\n",
    "    def __init__(self, cart, order):\n",
    "        self._cart = cart\n",
    "        self._order = order\n",
    "    \n",
    "    def get_shopping_cart(self):\n",
    "        return self.cart\n",
    "    \n",
    "    def add_item_to_cart(self, item):\n",
    "        raise NotImplementedError\n",
    "    \n",
    "    def remove_item_from_cart(self, item):\n",
    "        raise NotImplementedError\n",
    "    \n",
    "\n",
    "class Guest(Customer):\n",
    "    def register_account(self):\n",
    "        pass\n",
    "\n",
    "\n",
    "class Member(Customer):\n",
    "    def __init__(self, account:Account):\n",
    "        self._account = account\n",
    "        \n",
    "    def place_order(self, order):\n",
    "        pass\n",
    "    "
   ]
  },
  {
   "cell_type": "code",
   "execution_count": 4,
   "metadata": {},
   "outputs": [
    {
     "name": "stdout",
     "output_type": "stream",
     "text": [
      "True\n",
      "True\n"
     ]
    }
   ],
   "source": [
    "# Test class definition\n",
    "g = Guest(cart=\"Cart1\", order=\"Order1\")\n",
    "print(hasattr(g, \"remove_item_from_cart\"))\n",
    "print(isinstance(g, Customer))"
   ]
  },
  {
   "cell_type": "markdown",
   "metadata": {},
   "source": [
    "#### Product Category, Product and Product Review\n",
    "The classes below are related to a product:"
   ]
  },
  {
   "cell_type": "code",
   "execution_count": 5,
   "metadata": {},
   "outputs": [],
   "source": [
    "class Product:\n",
    "    def __init__(self, product_id, name, description, price, category, available_item_count):\n",
    "        self._product_id = product_id\n",
    "        self._name = name\n",
    "        self._price = price\n",
    "        self._category = category\n",
    "        self._available_item_count = 0\n",
    "        \n",
    "    def update_price(self, new_price):\n",
    "        self._price = new_price\n",
    "    \n",
    "    \n",
    "class ProductCategory:\n",
    "    def __init__(self, name, description):\n",
    "        self._name = name\n",
    "        self._description = description\n",
    "    \n",
    "\n",
    "class ProductReview:\n",
    "    def __init__(self, rating, review, reviewer):\n",
    "        self._rating = rating\n",
    "        self._review = review\n",
    "        self._reviewer = reviewer\n"
   ]
  },
  {
   "cell_type": "markdown",
   "metadata": {},
   "source": [
    "#### ShoppingCart, Item, Order and OrderLog\n",
    "Users will add items to the shopping cart and place an order to buy all the items in the cart."
   ]
  },
  {
   "cell_type": "code",
   "execution_count": 6,
   "metadata": {},
   "outputs": [],
   "source": [
    "class Item:\n",
    "    def __init__(self, item_id, quantity, price):\n",
    "        self._item_id = item_id\n",
    "        self._quantity = quantity\n",
    "        self._price = price\n",
    "    \n",
    "    def update_quantity(self, quantity):\n",
    "        self._quantity = quantity\n",
    "        \n",
    "    def __repr__(self):\n",
    "        return f\"ItemID:<{self._item_id}>\" \n",
    "\n",
    "\n",
    "class ShoppingCart:\n",
    "    \"\"\"We can still access items by calling items instead of having getter method\n",
    "    \"\"\"\n",
    "    def __init__(self):\n",
    "        self._items = []\n",
    "    \n",
    "    def add_item(self, item):\n",
    "        self._items.append(item)\n",
    "    \n",
    "    def remove_item(self, item):\n",
    "        self._items.remove(item)\n",
    "    \n",
    "    def update_item_quantity(self, item, quantity):\n",
    "        pass\n"
   ]
  },
  {
   "cell_type": "code",
   "execution_count": 7,
   "metadata": {},
   "outputs": [],
   "source": [
    "item = Item(item_id=1, quantity=2, price=300)\n",
    "cart = ShoppingCart()\n",
    "cart.add_item(item)"
   ]
  },
  {
   "cell_type": "code",
   "execution_count": 8,
   "metadata": {},
   "outputs": [
    {
     "data": {
      "text/plain": [
       "[ItemID:<1>]"
      ]
     },
     "execution_count": 8,
     "metadata": {},
     "output_type": "execute_result"
    }
   ],
   "source": [
    "# shopping cart now has items\n",
    "cart._items"
   ]
  },
  {
   "cell_type": "code",
   "execution_count": 9,
   "metadata": {},
   "outputs": [],
   "source": [
    "import datetime\n",
    "\n",
    "\n",
    "class OrderLog:\n",
    "    def __init__(self, order_number, status=OrderStatus.PENDING):\n",
    "        self._order_number = order_number\n",
    "        self._creation_date = datetime.date.today()\n",
    "        self._status = status\n",
    "        \n",
    "\n",
    "class Order:\n",
    "    def __init__(self, order_number, status=OrderStatus.PENDING):\n",
    "        self._order_number = order_number\n",
    "        self._status = status\n",
    "        self._order_date = datetime.date.today()\n",
    "        self._order_log = []\n",
    "    \n",
    "    def send_for_shipment(self):\n",
    "        pass\n",
    "    \n",
    "    def make_payment(self, payment):\n",
    "        pass\n",
    "    \n",
    "    def add_order_log(self, order_log):\n",
    "        pass"
   ]
  },
  {
   "cell_type": "markdown",
   "metadata": {},
   "source": [
    "#### Shipment and Notification\n",
    "After successfully placing an order and processing the payment, a shipment record will be created.\n",
    "Let's define the Shipment and Notification classes:"
   ]
  },
  {
   "cell_type": "code",
   "execution_count": 10,
   "metadata": {},
   "outputs": [],
   "source": [
    "import datetime\n",
    "\n",
    "\n",
    "class ShipmentLog:\n",
    "    def __init__(self, shipment_id, status=ShipmentStatus.PENDING):\n",
    "        self._shipment_id = shipment_id\n",
    "        self.shipment_status = status\n",
    "\n",
    "\n",
    "class Shipment:\n",
    "    def __init__(self, shipment_id, shipment_method, eta=None, shipment_logs=[]):\n",
    "        self._shipment_id = shipment_id\n",
    "        self._shipment_date = datetime.date.today()\n",
    "        self._eta = eta\n",
    "        self._shipment_logs = shipment_logs\n",
    "        \n",
    "\n",
    "class Notification(ABC):\n",
    "    def __init__(self, notification_id, content):\n",
    "        self._notification_id = notification_id\n",
    "        self._created_on = datetime.datetime.now()\n",
    "        self._content = content\n",
    "        "
   ]
  }
 ],
 "metadata": {
  "kernelspec": {
   "display_name": "Python 3",
   "language": "python",
   "name": "python3"
  },
  "language_info": {
   "codemirror_mode": {
    "name": "ipython",
    "version": 3
   },
   "file_extension": ".py",
   "mimetype": "text/x-python",
   "name": "python",
   "nbconvert_exporter": "python",
   "pygments_lexer": "ipython3",
   "version": "3.7.4"
  }
 },
 "nbformat": 4,
 "nbformat_minor": 2
}
