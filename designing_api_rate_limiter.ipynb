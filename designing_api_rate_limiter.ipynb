{
 "cells": [
  {
   "cell_type": "markdown",
   "metadata": {},
   "source": [
    " # Designing an API Rate Limiter\n",
    "\n",
    "An API reate limiter will throttle users based on the number of requests they are sending.\n",
    "\n",
    "## Why Rate Limiting?\n",
    "Rate limiting helps to protect services against abusive behaviors targeting the application such as Denial-of-service (DOS) attacks, brute-force password attempts, brute-force credit card transactions, etc.\n",
    "\n",
    "We also want to prevent revenue loss, to reduce infrastructure costs, stop spamming and stop online harassment. \n",
    "\n",
    "Here's some scenarios that show how benefitial it is to Rate limit our API/Service:\n",
    "\n",
    "- **Misbehaving clients:** Sometimes, clients can overwhelm servers by sending large number of requests, either intentionally or unintentionally. \n",
    "\n",
    "- **Security:** Limiting the number of times a user is allowed to try authenticating with a wrong password.\n",
    "\n",
    "- **Preventing abusive and bad design practices:** Without API limits, developers of client apps might request the same info over and over again.\n",
    "\n",
    "- **Revenue:**  Certain services might want to limit operations based on the tier of their customer's service and thus create a revenue model off the rate limiting. To go beyond the set limit, the user has to buy higher limits.\n",
    "\n",
    "- Prevent spikiness of traffic so that the service stays reliably up for all.\n"
   ]
  },
  {
   "cell_type": "markdown",
   "metadata": {},
   "source": [
    "## 1. Requirements and System Goals\n",
    "\n",
    "#### Functional requirements\n",
    "1. Limit the number of requests an entity can send to an API within a time window\n",
    "2. The user should get an error whenever they cross the defined threshold within a single server or across a set of servers.\n",
    "\n",
    "#### Non-Functional requirements\n",
    "1. The system should be highly available, protecting our service from external attacks.\n",
    "2. "
   ]
  }
 ],
 "metadata": {
  "kernelspec": {
   "display_name": "Python 3",
   "language": "python",
   "name": "python3"
  },
  "language_info": {
   "codemirror_mode": {
    "name": "ipython",
    "version": 3
   },
   "file_extension": ".py",
   "mimetype": "text/x-python",
   "name": "python",
   "nbconvert_exporter": "python",
   "pygments_lexer": "ipython3",
   "version": "3.7.4"
  }
 },
 "nbformat": 4,
 "nbformat_minor": 2
}
