{
 "cells": [
  {
   "cell_type": "markdown",
   "metadata": {},
   "source": [
    "# Designing Instagram\n",
    "Let's design a photo-sharing service like IG, where users upload photos to share them with other users.\n",
    "\n",
    "Instagram enables its users to upload and share their photos and videos with other users. Users can choose to share information publicly or privately. Anything shared publicly can be seen by any other user, whereas privately shared content can only be accessed by a specified set of people.\n",
    "\n",
    "We plan to design a simpler version of Instagram, where a user can share photos and can also follow other users. "
   ]
  },
  {
   "cell_type": "markdown",
   "metadata": {},
   "source": [
    "## 1. Requirements and Goals of the System\n",
    "\n",
    "#### Functional requirements\n",
    "1. Users should be able to upload/download/view photos\n",
    "2. Users can perform searches baed on photo/video titles\n",
    "3. Users can follow other users\n",
    "4. The system should generate Newsfeed consisting top photos from all the people the user follows\n",
    "\n",
    "#### Non-functional requirements\n",
    "1. The service needs to be highly available\n",
    "2. The acceptable latency is 200ms for News Feed generation\n",
    "3. The system should be highly reliable; any uploaded photo/video should never be lost."
   ]
  },
  {
   "cell_type": "markdown",
   "metadata": {},
   "source": [
    "## 2. Capacity Estimation and Constraints\n",
    "The system would be read-heavy, so we'll focus on buiding a system that can retrieve photos quickly.\n",
    "\n",
    "- Assume we have 500M total users, with 1M daily active users.\n",
    "- 2M new photos every day, 23 new photos per secod.\n",
    "- Average photo file size ~= 200KB\n",
    "- Total space required for a 1 day of photos => \n",
    "    ```\n",
    "    2M * 200KB => 400GB\n",
    "    ```\n",
    "- Total space for 10 years:\n",
    "    ```\n",
    "    400GB * 365 days * 10 years ~= 1425 TB => 1.4 Petabytes\n",
    "    ```"
   ]
  },
  {
   "cell_type": "markdown",
   "metadata": {},
   "source": [
    "## 3. High Level System Design\n",
    "At a high-level, we need to support two scenarios: uploading photos and view/searching photos.\n",
    "\n",
    "We need object storage servers to store photos and also some DB servers to store metadata information about the photos\n",
    "\n",
    "![](images/instagram_high_level_design.png)"
   ]
  },
  {
   "cell_type": "markdown",
   "metadata": {},
   "source": [
    "## 6. Database Schema\n",
    "> DB schema will help understand data flow among various components and later guid towards data partitioning.\n",
    "\n",
    "We need to store user data, their photos, and people they follow.\n",
    "Photo table \n",
    "\n",
    "\n",
    ">| Photo    |            \n",
    "| --- |             \n",
    "| PhotoID: int (PK) |     \n",
    "| UserID: int     |\n",
    "| PhotoLatitude: int |\n",
    "| PhotoLongitude: int |\n",
    "| UserLatitude: int |\n",
    "| UserLongitude: int |\n",
    "| CreationDate: datetime |\n",
    "\n",
    "\n",
    ">| User |\n",
    "| --- |\n",
    "| UserID: int (PK) |\n",
    "| Name: varchar(20) |\n",
    "| DOB: datetime |\n",
    "| CreatedAt: datetime |\n",
    "| LastLogin: datetime |\n",
    "\n",
    ">|UserFollow |  |\n",
    "|---|---|\n",
    "| PK | UserID1: int |\n",
    "| PK | UserID2: int|\n",
    "\n",
    "\n",
    "We could use an RDBMS like MySQL since we require joins. But relational DB come with their challenges, especially when we need to scale them. So we'll store the schema in a distributed wide-column NoSQL datastore like [Cassandra](https://en.wikipedia.org/wiki/Apache_Cassandra).\n",
    "All the photo metadata can go to a table where the 'key' is the `PhotoID` and the 'value' would be an object containing Photo related details.\n",
    "Cassandra or key-value stores in general always maintain a certain number of replicas to offer reliability. Also in such data stores, deletes don't get applied instantly, data is retained for a few days to support undeleting, before getting removed permanently.\n",
    "\n",
    "We can store the actual photos in as distributed file storage like [Hadoop](https://en.wikipedia.org/wiki/Apache_Hadoop) or [S3](https://en.wikipedia.org/wiki/Amazon_S3).\n",
    "\n",
    "\n",
    "\n"
   ]
  },
  {
   "cell_type": "markdown",
   "metadata": {},
   "source": []
  }
 ],
 "metadata": {
  "kernelspec": {
   "display_name": "Python 3",
   "language": "python",
   "name": "python3"
  },
  "language_info": {
   "codemirror_mode": {
    "name": "ipython",
    "version": 3
   },
   "file_extension": ".py",
   "mimetype": "text/x-python",
   "name": "python",
   "nbconvert_exporter": "python",
   "pygments_lexer": "ipython3",
   "version": "3.6.5"
  }
 },
 "nbformat": 4,
 "nbformat_minor": 2
}
