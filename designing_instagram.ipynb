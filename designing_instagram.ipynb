{
 "cells": [
  {
   "cell_type": "markdown",
   "metadata": {},
   "source": [
    "# Designing Instagram\n",
    "Let's design a photo-sharing service like IG, where users upload photos to share them with other users.\n",
    "\n",
    "Instagram enables its users to upload and share their photos and videos with other users. Users can choose to share information publicly or privately. Anything shared publicly can be seen by any other user, whereas privately shared content can only be accessed by a specified set of people.\n",
    "\n",
    "We plan to design a simpler version of Instagram, where a user can share photos and can also follow other users. "
   ]
  },
  {
   "cell_type": "markdown",
   "metadata": {},
   "source": [
    "## 1. Requirements and Goals of the System\n",
    "\n",
    "#### Functional requirements\n",
    "1. Users should be able to upload/download/view photos\n",
    "2. Users can perform searches baed on photo/video titles\n",
    "3. Users can follow other users\n",
    "4. The system should generate Newsfeed consisting top photos from all the people the user follows\n",
    "\n",
    "#### Non-functional requirements\n",
    "1. The service needs to be highly available\n",
    "2. The acceptable latency is 200ms for News Feed generation\n",
    "3. The system should be highly reliable; any uploaded photo/video should never be lost."
   ]
  },
  {
   "cell_type": "code",
   "execution_count": null,
   "metadata": {},
   "outputs": [],
   "source": []
  }
 ],
 "metadata": {
  "kernelspec": {
   "display_name": "Python 3",
   "language": "python",
   "name": "python3"
  },
  "language_info": {
   "codemirror_mode": {
    "name": "ipython",
    "version": 3
   },
   "file_extension": ".py",
   "mimetype": "text/x-python",
   "name": "python",
   "nbconvert_exporter": "python",
   "pygments_lexer": "ipython3",
   "version": "3.6.5"
  }
 },
 "nbformat": 4,
 "nbformat_minor": 2
}
