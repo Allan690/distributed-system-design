{
 "cells": [
  {
   "cell_type": "markdown",
   "metadata": {},
   "source": [
    "# Design E-Ticketing System\n",
    "\n",
    "Let's design an online E-ticketing system that sells movie tickets.\n",
    "\n",
    "A movie ticket booking system provides its customer the ability to purchase theatre seats online. E-ticketing systems allows the customer to browse movies currently being played and to book available seats, anywhere anytime."
   ]
  },
  {
   "cell_type": "markdown",
   "metadata": {},
   "source": [
    "## 1. Requirements and System goals\n",
    "\n",
    "### Functional Requirements\n",
    "- The service should list different cities where its affiliated cinemas are located.\n",
    "- When user selects a city, the service should display movies released in that particular city.\n",
    "- When user selects movie, the service should display the cinemas running the movie plus available show times.\n",
    "- Users should be able to book a show at a cinema and book tickets.\n",
    "- The service should be able to show the user the seating arrangement of the cinema hall. The user should be able to select multiple seats according to the preference.\n",
    "- The user should be able to distinguish between available seats from booked ones.\n",
    "- Users should be able to put a hold on the seat (for 5 minutes) while they make payments.\n",
    "- Users should be able to wait if there is a chance that the seats might become available (When holds by other users expire).\n",
    "- Waiting customers should be serviced in a fair, first come, first serve manner.\n",
    "\n",
    "### Non-Functional Requirements\n",
    "- The service should be highly concurrent. There will be multiple booking requests for the same seat at any particular point in time. \n",
    "- The system has financial transactions, meaning it should be secure and the DB ACID compliant.\n",
    "- Assume traffic will spike on popular/much-awaited movie releases and the seats would fill up pretty fast, so the service should be scalable and highly available to keep up with the surge in traffic.\n",
    "\n",
    "\n",
    "### Design Considerations\n",
    "1. Assume that our service doesn't require authentication.\n",
    "2. No handling of partial ticket orders. Either users get all the tickets they want or they get nothing.\n",
    "3. Fairness is mandatory\n",
    "4. To prevent system abuse, restrict users from booking more than 10 seats at a time."
   ]
  },
  {
   "cell_type": "markdown",
   "metadata": {},
   "source": [
    "## 2. Capacity Estimation\n",
    "\n",
    "> **Traffic estimates:** 3 billion page views/month,  selling 10 million tickets a month\n",
    " \n",
    "> **Storage estimates:**\n",
    "500 cities, on average each city has 10 cinemas, each with 300 seats, 3 shows daily.\n",
    "\n",
    "Let's assume each seat booking needs 50 bytes (IDs, NumberOfSeats, ShowID, MovieID, SeatNumbers, SeatStatus, Timestamp, etc) to store in the DB.\n",
    "We need to store information about movies and cinemas; assume another 50 bytes.\n",
    "\n",
    "So to store all data about all shows of all cinemas of all cities for a day\n",
    "\n",
    "```\n",
    "        500 cities * 10 cinemas * 300 seats * 3 shows * (50 + 50) bytes = 450 MB / day\n",
    "```\n",
    "To store data for 5 years, we'd need around\n",
    "```\n",
    "    450 MB/day * 365 * 5 = 821.25 GB\n",
    "```"
   ]
  },
  {
   "cell_type": "code",
   "execution_count": null,
   "metadata": {},
   "outputs": [],
   "source": []
  }
 ],
 "metadata": {
  "kernelspec": {
   "display_name": "Python 3",
   "language": "python",
   "name": "python3"
  },
  "language_info": {
   "codemirror_mode": {
    "name": "ipython",
    "version": 3
   },
   "file_extension": ".py",
   "mimetype": "text/x-python",
   "name": "python",
   "nbconvert_exporter": "python",
   "pygments_lexer": "ipython3",
   "version": "3.7.4"
  }
 },
 "nbformat": 4,
 "nbformat_minor": 2
}
