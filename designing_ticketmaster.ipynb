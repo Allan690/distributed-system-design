{
 "cells": [
  {
   "cell_type": "markdown",
   "metadata": {},
   "source": [
    "# Design E-Ticketing System\n",
    "\n",
    "Let's design an online E-ticketing system that sells movie tickets.\n",
    "\n",
    "A movie ticket booking system provides its customer the ability to purchase theatre seats online. E-ticketing systems allows the customer to browse movies currently being played and to book available seats, anywhere anytime."
   ]
  },
  {
   "cell_type": "markdown",
   "metadata": {},
   "source": [
    "## Requirements and System goals\n",
    "\n",
    "### Functional Requirements\n",
    "- The service should list different cities where its affiliated cinemas are located.\n",
    "- When user selects a city, the service should display movies released in that particular city.\n",
    "- When user selects movie, the service should display the cinemas running the movie plus available show times.\n",
    "- Users should be able to book a show at a cinema and book tickets.\n",
    "- The service should be able to show the user the seating arrangement of the cinema hall. The user should be able to select multiple seats according to the preference.\n",
    "- The user should be able to distinguish between available seats from booked ones.\n",
    "- Users should be able to put a hold on the seat (for 5 minutes) while they make payments.\n",
    "- Users should be able to wait if there is a chance that the seats might become available (When holds by other users expire).\n",
    "- Waiting customers should be serviced in a fair, first come, first serve manner.\n",
    "\n",
    "### Non-Functional Requirements\n",
    "- The service should be highly concurrent. There will be multiple booking requests for the same seat at any particular point in time. \n",
    "- The system has financial transactions, meaning it should be secure and the DB ACID compliant."
   ]
  },
  {
   "cell_type": "code",
   "execution_count": null,
   "metadata": {},
   "outputs": [],
   "source": []
  }
 ],
 "metadata": {
  "kernelspec": {
   "display_name": "Python 3",
   "language": "python",
   "name": "python3"
  },
  "language_info": {
   "codemirror_mode": {
    "name": "ipython",
    "version": 3
   },
   "file_extension": ".py",
   "mimetype": "text/x-python",
   "name": "python",
   "nbconvert_exporter": "python",
   "pygments_lexer": "ipython3",
   "version": "3.7.4"
  }
 },
 "nbformat": 4,
 "nbformat_minor": 2
}
