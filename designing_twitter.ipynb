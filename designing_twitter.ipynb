{
 "cells": [
  {
   "cell_type": "markdown",
   "metadata": {},
   "source": [
    "# Designing Twitter\n",
    "\n",
    "Twitter is an online social networking service where users post and read short 140-character messages called \"tweets\". Registered Users can post and read tweets, but those not registered can only read them. \n",
    "\n",
    "\n",
    "## 1. Requirements and System Goals\n",
    "\n",
    "### Functional Requirements\n",
    "1. Users should be able to post new tweets.\n",
    "2. A user should be able to follow other users.\n",
    "3. Users should be able to mark tweets as favorites.\n",
    "4. Tweets can contain photos and videos.\n",
    "5. A user should have a timeline consting of top tweets from all the people the user follows.\n",
    "\n",
    "### Non-functional Requirements\n",
    "1. Our service needs to be highly available.\n",
    "2. Acceptance latency of the sytstem is 200ms for timeline generation.\n",
    "3. Consistency can take a hit (in the interest of availability); if user doesn't see a tweet for a while, it should be fine.\n",
    "\n",
    "### Extended Requirements\n",
    "1. Searching tweets.\n",
    "2. Replying to a tweet.\n",
    "3. Trending topics - current hot topics.\n",
    "4. Tagging other users.\n",
    "5. Tweet notification.\n",
    "6. Suggestions on who to follow."
   ]
  },
  {
   "cell_type": "markdown",
   "metadata": {},
   "source": [
    "## Capacity Estimation and Constraints\n",
    "\n",
    "Let's assume we have 1 billion users, with 200 million daily active users (DAU). \n",
    "Also assume we have 100 million new tweets every day, and on average each user follows 200 people.\n",
    "\n",
    "**How many favorites per day?** If on average, each user favorites 5 tweets per day, we have:\n",
    "```\n",
    "200M users * 5 => 1 billion favorites.\n",
    "```\n",
    "\n",
    "**How many total tweet-views?** Let's assume on average a user visits their timeline twice a day and visits 5 other people's pages. On each page if a user sees 20 tweets, then the no. of views our system will generate is:\n",
    "```\n",
    "200M DAU * ((2 + 5) * 20 tweets) => 28B/day\n",
    "```\n",
    "\n",
    "#### Storage Estimates\n",
    "Let's say each tweet has 140 characters and we need two bytes to store a character without compression. Assume we need 30 bytes to store metadata with each tweet (like ID, timestamps, etc.). Total storage we would need is:\n",
    "```\n",
    "100M new daily tweets * ((140 * 2) + 30) bytes => ~28 GB/day\n",
    "```\n",
    "\n",
    "Not all tweets will have media, let's assume that on average every fifth tweet has a photo and every tenth a video. Let's also assume on average, a photo = 0.5MB and a video = 5MB. This will lead us to have:\n",
    "```\n",
    "    (100M/5 photos * 0.5MB) + (100M/10 videos * 5MB) ~= 60 TB/day\n",
    "```\n",
    "\n",
    "#### Bandwidth Estimates\n",
    "Since total ingress is 60TB per day, then it will translate to: \n",
    "```\n",
    "60TB / (24 * 60 * 60) ~= 690 MB/sec\n",
    "```\n",
    "Remember we have 28 billion tweets views in a day. We must show the photo of every tweet, but let's assume that the users watch every 3rd video they see in their timeline. So, total egress will be:\n",
    "\n",
    "```\n",
    "      (28Billion * 280 bytes) / 86400 of text ==> 93MB/s\n",
    "    + (28Billion/5 * 0.5MB) /  86400 of photos ==> ~32GB/s\n",
    "    + (28Billion/10/3 * 5MB) / 86400 of videos ==> ~54GB/s\n",
    "    \n",
    "    Total ~= 84GB/sec\n",
    "```\n"
   ]
  },
  {
   "cell_type": "code",
   "execution_count": null,
   "metadata": {},
   "outputs": [],
   "source": []
  }
 ],
 "metadata": {
  "kernelspec": {
   "display_name": "Python 3",
   "language": "python",
   "name": "python3"
  },
  "language_info": {
   "codemirror_mode": {
    "name": "ipython",
    "version": 3
   },
   "file_extension": ".py",
   "mimetype": "text/x-python",
   "name": "python",
   "nbconvert_exporter": "python",
   "pygments_lexer": "ipython3",
   "version": "3.6.5"
  }
 },
 "nbformat": 4,
 "nbformat_minor": 2
}
