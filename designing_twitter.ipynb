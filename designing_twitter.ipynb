{
 "cells": [
  {
   "cell_type": "markdown",
   "metadata": {},
   "source": [
    "# Designing Twitter\n",
    "\n",
    "Twitter is an online social networking service where users post and read short 140-character messages called \"tweets\". Registered Users can post and read tweets, but those not registered can only read them. \n",
    "\n",
    "\n",
    "## 1. Requirements and System Goals\n",
    "\n",
    "####  Functional Requirements\n",
    "1. Users should be able to post new tweets.\n",
    "2. A user should be able to follow other users.\n",
    "3. Users should be able to mark tweets as favorites.\n",
    "4. Tweets can contain photos and videos.\n",
    "5. A user should have a timeline consting of top tweets from all the people the user follows.\n",
    "\n",
    "#### Non-functional Requirements\n",
    "1. Our service needs to be highly available.\n",
    "2. Acceptance latency of the sytstem is 200ms for timeline generation.\n",
    "3. Consistency can take a hit (in the interest of availability); if user doesn't see a tweet for a while, it should be fine."
   ]
  },
  {
   "cell_type": "code",
   "execution_count": null,
   "metadata": {},
   "outputs": [],
   "source": []
  }
 ],
 "metadata": {
  "kernelspec": {
   "display_name": "Python 3",
   "language": "python",
   "name": "python3"
  },
  "language_info": {
   "codemirror_mode": {
    "name": "ipython",
    "version": 3
   },
   "file_extension": ".py",
   "mimetype": "text/x-python",
   "name": "python",
   "nbconvert_exporter": "python",
   "pygments_lexer": "ipython3",
   "version": "3.6.5"
  }
 },
 "nbformat": 4,
 "nbformat_minor": 2
}
