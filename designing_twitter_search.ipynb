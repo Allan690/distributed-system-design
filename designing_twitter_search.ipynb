{
 "cells": [
  {
   "cell_type": "markdown",
   "metadata": {},
   "source": [
    "# Designing Twitter Search\n",
    "\n",
    "We'll design a service that can effectively store and query user tweets."
   ]
  },
  {
   "cell_type": "markdown",
   "metadata": {},
   "source": [
    "## 1. Requirements and System Goals\n",
    "- Assume Twitter has 1.5 billion total users with 800 million daily active users.\n",
    "- On average Twitter gets 400 million tweets every day.\n",
    "- Average size of a tweet is 300 bytes.\n",
    "- Assume 500M searches a day.\n",
    "- The search query will consist of multiple words combined with AND/OR.\n"
   ]
  },
  {
   "cell_type": "markdown",
   "metadata": {},
   "source": [
    "## 2. Capacity Estimation and Constraints\n",
    "\n",
    "Since we have 400 million new tweets each day, and each tweet on average is 300 bytes, \n",
    "the total storage we'll need is:\n",
    "\n",
    "```\n",
    "    400M * 300 =>  120GB/day\n",
    "    \n",
    "    Total storage per second:\n",
    "        120 GB / (24 hours / 3600 seconds)  ~= 1.38MB/second\n",
    "```\n"
   ]
  },
  {
   "cell_type": "markdown",
   "metadata": {},
   "source": [
    "## 3. System APIs\n",
    "We can have REST APIs expose the functionality of our service.\n",
    "\n",
    "```python\n",
    "\n",
    "search(\n",
    "    api_dev_key: string,  # The API developer key of a registered account, this will be used for things like throttling users based on their allocated quota.\n",
    "    search_terms: string,  # A string containing the search terms.\n",
    "    max_results_to_return: number,  # Number of tweets to return.\n",
    "    sort: number,  # optional sort mode: Last first(0 - default), Best mached (1), Most liked (2)\n",
    "    page_token: string,  # This token specifies a page in the result set that should be returned.\n",
    ")\n",
    "```\n",
    "Returns: (JSON)\n",
    "```\n",
    "A JSON containing info about a list of tweets matching the search query.\n",
    "Each result entry can have the user ID & name, tweet text, tweet ID, creation time, number of likes, etc.\n",
    "```\n",
    "\n"
   ]
  },
  {
   "cell_type": "code",
   "execution_count": null,
   "metadata": {},
   "outputs": [],
   "source": []
  },
  {
   "cell_type": "code",
   "execution_count": null,
   "metadata": {},
   "outputs": [],
   "source": []
  }
 ],
 "metadata": {
  "kernelspec": {
   "display_name": "Python 3",
   "language": "python",
   "name": "python3"
  },
  "language_info": {
   "codemirror_mode": {
    "name": "ipython",
    "version": 3
   },
   "file_extension": ".py",
   "mimetype": "text/x-python",
   "name": "python",
   "nbconvert_exporter": "python",
   "pygments_lexer": "ipython3",
   "version": "3.7.4"
  }
 },
 "nbformat": 4,
 "nbformat_minor": 2
}
