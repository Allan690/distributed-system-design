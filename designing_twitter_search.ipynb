{
 "cells": [
  {
   "cell_type": "markdown",
   "metadata": {},
   "source": [
    "# Designing Twitter Search\n",
    "\n",
    "We'll design a service that can effectively store and query user tweets."
   ]
  },
  {
   "cell_type": "markdown",
   "metadata": {},
   "source": [
    "## 1. Requirements and System Goals\n",
    "- Assume Twitter has 1.5 billion total users with 800 million daily active users.\n",
    "- On average Twitter gets 400 million tweets every day.\n",
    "- Average size of a tweet is 300 bytes.\n",
    "- Assume 500M searches a day.\n",
    "- The search query will consist of multiple words combined with AND/OR.\n"
   ]
  },
  {
   "cell_type": "markdown",
   "metadata": {},
   "source": [
    "## 2. Capacity Estimation and Constraints\n",
    "\n",
    "```\n",
    "    400 million new tweets each day,\n",
    "    Each tweet is on average 300 bytes \n",
    "    400M * 300 =>  120GB/day\n",
    "    \n",
    "    Total storage per second:\n",
    "        120 GB / (24 hours / 3600 seconds)  ~= 1.38MB/second\n",
    "```\n"
   ]
  },
  {
   "cell_type": "markdown",
   "metadata": {},
   "source": [
    "## 3. System APIs\n",
    "We can have REST APIs expose the functionality of our service.\n",
    "\n",
    "```python\n",
    "\n",
    "search(\n",
    "    api_dev_key: string,  # The API developer key of a registered account, this will be used for things like throttling users based on their allocated quota.\n",
    "    search_terms: string,  # A string containing the search terms.\n",
    "    max_results_to_return: number,  # Number of tweets to return.\n",
    "    sort: number,  # optional sort mode: Last first(0 - default), Best mached (1), Most liked (2)\n",
    "    page_token: string,  # This token specifies a page in the result set that should be returned.\n",
    ")\n",
    "```\n",
    "Returns: (JSON)\n",
    "```\n",
    "A JSON containing info about a list of tweets matching the search query.\n",
    "Each result entry can have the user ID & name, tweet text, tweet ID, creation time, number of likes, etc.\n",
    "```\n",
    "\n"
   ]
  },
  {
   "cell_type": "markdown",
   "metadata": {},
   "source": [
    "## 4. Detailed Component Design\n",
    "1. Since we have a huge amount of data, we need to have a data partitioning scheme that'll efficiently distribute the data across multiple servers.\n",
    "\n",
    "\n",
    "5 year plan\n",
    "```\n",
    "        120 GB/day * 365 days * 5 years ~= 200TB\n",
    "        \n",
    "```\n",
    "\n",
    "We never want to be more than 80% full at any time, so we'll need approximately 250TB storage. Assuming we also need to keep an extra copy for fault tolerance, then, our total storage will be 500 TB.\n",
    "\n",
    "Assuming modern servers store up to 5TB of data, we'd need 100 such servers to hold all the data for the next 5 years.\n",
    "\n",
    "Let's start with simplistic design where we store tweets in a PostgreSQL DB. Assume a table with two columns: TweetID, and TweetText. \n",
    "Partitioning can be based on TweetID. If our TweetIDs are unique system wide, we can define a hash function that can map a TweetID to a storage server where we can store that tweet object.\n",
    "\n",
    "#### How can we create system wide unique TweetIDs?\n",
    "If we're getting 400M tweets per day, then in the next five years?\n",
    "```\n",
    "        400 M * 365 * 5 years => 730 billion tweets\n",
    "```\n",
    "We'll need 5 bytes number to identify TweetIDs uniquely. Assume we have a service that will generate unique TweetIDs whenever we need to store an object. We can feed the TweetID to our hash function to find the storage server and store the tweet object there.\n",
    "\n",
    "2. **Index:** Since our tweet queries will consist of words, let's build the index that can tell us which words comes in which tweet object.\n",
    "\n",
    "\n",
    "Assume:\n",
    "- Index all English words,\n",
    "- Add some famous nouns like People names, city names, etc\n",
    "- We have 300K English words, 200K nouns, Total 500K.\n",
    "- Average length of a word = 5 characters.\n",
    "\n",
    "```\n",
    "        If we keep our index in memory, we need:\n",
    "        \n",
    "        500K * 5 => 2.5 MB\n",
    "```\n",
    "\n",
    "Assume:\n",
    "    - We keep the index in memory for all tweets from our last two years. \n",
    "```\n",
    "   Since we'll get 730 Billion tweets in the next 5 years,\n",
    "   \n",
    "   292Billion (2 year tweets) * 5 => 1460 GB\n",
    "```\n",
    "\n",
    "So our index would be like a big distributed hash table, where 'key' would be the word and 'value' will be a list of TweetIDs of all those tweets which contain that word.\n",
    "\n",
    "Assume:\n",
    "    - Average of 40 words in each tweet,\n",
    "    - 15 words will need indexing in each tweet, since we won't be indexing prepositions and other small words (the, in, an, and)\n",
    "\n",
    "> This means that each TweetID will be stored 15 times in our index. \n",
    "\n",
    "so total memory we will need to store our index:\n",
    "```\n",
    "        (1460 * 15) + 2.5MB  ~=  21 TB\n",
    "```\n",
    "> Assuming a high-end server holds 144GB of memory, we would need 152 such servers to hold our index.\n",
    "\n",
    "## Sharding our Data\n",
    "\n",
    "\n",
    "#### Sharding based on Words:\n",
    "While building the index, we'll iterate through all words of a tweet and calculate the hash of each word to find the server where it would be indexed. To find all tweets containing a specific word we have to query only server which contains this word.\n",
    "\n",
    "Issues with this approach:\n",
    "- If a word becomes hot? There will be lots of queries (high load) on the server holding the word, affecting the service performance.\n",
    "- Over time, some words can end up storing a lot of TweetIDs compared to others, therefore maintaining a uniform distribution of words while tweets are growing is tricky.\n",
    "\n",
    "To recover from this, we can repartition our data or use [Consistent Hashing](https://en.wikipedia.org/wiki/Consistent_hashing)\n",
    "\n",
    "\n",
    "#### Sharding based on tweet object\n",
    "While storing, we will pass the TweetID to our hash function to find the server and index all words of the tweet on that server.\n",
    "While querying for a particular word, we'll query all servers, and each server will return a set of TweetIDs. A centralized server will aggregate these results to return them to the user. \n",
    "\n",
    "![](images/sharding_based_on_tweet_object.png)"
   ]
  },
  {
   "cell_type": "markdown",
   "metadata": {},
   "source": [
    "## 6. Fault Tolerance\n",
    "We can have a secondary replica of each server and if the primary one dies, it can take control after the failover.\n",
    "Both primary and secondary servers will have the same copy of the index. \n",
    "\n",
    "How can we efficiently retrieve a mapping between tweets and the index server? We have to build a reverse index that will map all the tweetID to their index server. We'll keep this in the Index-Builder server.\n",
    "\n",
    "- build a Hashtable, where key = index server number and value = HashSet containing all TweetIDs being kept at that index server.\n",
    "- A HashSet will help us to add/remove tweets from our index quickly.\n",
    "\n",
    "So whenever an index server has to rebuild itself, it can simply ask the Index-Builder server for all tweets it needs to store and then fetch those tweets to build the index. We should also have a replica of the Index-builder server for fault tolerance. "
   ]
  },
  {
   "cell_type": "code",
   "execution_count": null,
   "metadata": {},
   "outputs": [],
   "source": [
    "## 7. Caching"
   ]
  }
 ],
 "metadata": {
  "kernelspec": {
   "display_name": "Python 3",
   "language": "python",
   "name": "python3"
  },
  "language_info": {
   "codemirror_mode": {
    "name": "ipython",
    "version": 3
   },
   "file_extension": ".py",
   "mimetype": "text/x-python",
   "name": "python",
   "nbconvert_exporter": "python",
   "pygments_lexer": "ipython3",
   "version": "3.7.4"
  }
 },
 "nbformat": 4,
 "nbformat_minor": 2
}
