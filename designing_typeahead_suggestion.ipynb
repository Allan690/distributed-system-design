{
 "cells": [
  {
   "cell_type": "markdown",
   "metadata": {},
   "source": [
    "# Designing Typeahead Suggestion\n",
    "\n",
    "Typeahead is a real-time suggestion service which recommends terms to users as they enter text for searching.\n",
    "\n",
    "As the user types into the search box, it tries to predict the query based on the characters the users has entered, and gives a list of suggestions to complete the query.\n",
    "\n",
    "It's not about speeding up the users' search but to help the user articulate their search queries better.\n"
   ]
  },
  {
   "cell_type": "markdown",
   "metadata": {},
   "source": [
    "## 1. Requirements and Goals of the System\n",
    "**Functional requirements:** As the user types in their search query, our service should suggest top 10 terms starting with whatever the user typed.\n",
    "\n",
    "**Non-functional requirements:** The suggestions should appear in real-time, allowing the user to see it in about 200ms.\n"
   ]
  },
  {
   "cell_type": "markdown",
   "metadata": {},
   "source": [
    "# 2. Basic System Design and Algorithm\n",
    "\n",
    "The problem to solve is that we have a lot of strings we need to store in such a way that the user can search with any prefix. The service will suggest the terms that match with the prefix. For example, if our DB contains the terms (cat, cap, captain, capital), and the user has typed in `cap`, then the system should suggest `cap`, `captain` and `capital`.\n",
    "\n",
    "To serve a lot of queries with minimal latency, we can't depend on the DB for this; we need to store our index in memory in a highly efficient data structure – a Trie(pronounced \"try\").\n",
    "\n",
    "![](images/trie_typeahead.png)\n",
    "\n",
    "If the user types `cap`, then the service can traverse the trie and go to the node **P**, to find all the terms that start with this prefix. (i.e cap-ital, cap-tain, cap-tion).\n",
    "\n",
    "We can also merge nodes that have only one branch to save memory.\n",
    "\n",
    "![](images/trie_merged.png)\n"
   ]
  }
 ],
 "metadata": {
  "kernelspec": {
   "display_name": "Python 3",
   "language": "python",
   "name": "python3"
  },
  "language_info": {
   "codemirror_mode": {
    "name": "ipython",
    "version": 3
   },
   "file_extension": ".py",
   "mimetype": "text/x-python",
   "name": "python",
   "nbconvert_exporter": "python",
   "pygments_lexer": "ipython3",
   "version": "3.6.5"
  }
 },
 "nbformat": 4,
 "nbformat_minor": 2
}
