{
 "cells": [
  {
   "cell_type": "markdown",
   "metadata": {},
   "source": [
    "# Designing Uber Backend\n",
    "Let's design a ride-sharing service like Uber, connecting a passenger who needs a ride with a driver who has a car.\n",
    "\n",
    "Uber enables its customers to book drivers for taxi rides. Uber drivers use their cars to driver customers around. Both customers and drivers communicate with each other through their smartphones using the Uber app.\n",
    "\n",
    "Similar Services: Lyft"
   ]
  },
  {
   "cell_type": "markdown",
   "metadata": {},
   "source": [
    "## 1. Requirements and Goals of the System\n",
    "\n",
    "There are two types of users in our system: Drivers and Customers.\n",
    "\n",
    "- Drivers need to regularly notify the service about their current location and their availability to pick passengers\n",
    "- Passengers get to see all the nearby available drivers\n",
    "- Customers can request a ride; this notifies nearby drivers that a customer is ready to be picked up\n",
    "- Once a driver and a customer accept a ride, they acan constantly see each other's current location until the trip finishes.\n",
    "- Upon reaching the destination, the driver marks the journey complete to be available for the next ride.\n"
   ]
  },
  {
   "cell_type": "markdown",
   "metadata": {},
   "source": [
    "## 2. Capacity Estimation and Constraints\n",
    "- Assume we have 300 million customers and 1 million daily active customers, and 500K daily active drivers.\n",
    "- Assume 1 million daily rides\n",
    "- Let's assume that all active drivers notify their current location every 3 seconds.\n",
    "- Once a customer puts in a request for a ride, the system should be able to contact drivers in real-time."
   ]
  },
  {
   "cell_type": "markdown",
   "metadata": {},
   "source": [
    "## 3. Basic System Design and Algorithm\n",
    "\n",
    "\n",
    "### a. Grids\n",
    "We can divide the whole city map into smaller grids to group driver locations into smaller sets. Each grid will store all the drivers locations under a specific range of longitude and latitude.\n",
    "This will enable us to query only a few grids to find nearby drivers. Based on a customer's location, we can find all neighbouring grids and then query these grids to find nearby drivers.\n",
    "\n",
    "#### What could be a reasonable grid size?\n",
    "Let's assume that GridID (say, a 4 byte number) would uniquely identify grids in our system.\n",
    "\n",
    "Grid size could be equal to the distance we want to query since we also want to reduce the number of grids. We can search within the customer's grid which contains their location and the neighbouring eight grids. Since our grids will be statically defined, (from the fixed grid size), we can easily find the grid number of any driver (lat, long) and its neighbouring grids.\n",
    "\n",
    "In the DB, we can store the GridID with each location and have an index on it, too, for faster searching. \n",
    "\n",
    "\n",
    "### b. Dynamic size Grids\n",
    "Let's assume we don't want to have more than 100 drivers locations in a grid so that we can have faster searching. So, whenever a grid reaches this limit, we break it down into four grids of equal size, and distribute drivers among them (of course according to the driver's current location). This means that the city center will have a lot of grids, whereas the outskirts of the city will have large grids with few drivers.\n",
    "\n",
    "#### What data structure can hold this information?\n",
    "A tree in which each node has 4 children.\n",
    "Each node will represent a grid and will contain info about all the drivers' locations in that grid. If a node reaches our limit of 500 places, we will break it down to create 4 child nodes under it and distribute driver locations among them. In this way, all the leaf nodes will represent grids that can't be broken further down. So leaf nodes will keep a list of places with them.\n",
    "This tree structure is called a [QuadTree](https://en.wikipedia.org/wiki/Quadtree).\n",
    "\n",
    "![](images/quad_tree_diagram.png)\n",
    "\n",
    "#### How do we build a quad tree?\n",
    "We'll start with one node that represents the whole city in one grid. Each Uber-available city will have it's own qaud tree.\n",
    "Since it will have more than 100 locations, we will break it down into 4 nodes and distribute locations among them. We will keep repeating the process with each child node until there are no nodes left with more than 100 driver locations.\n",
    "\n",
    "#### How will we find the grid for a given location?\n",
    "We start with the root node(city) and search downward to find one required node/grid. At each step we will see if the current node we are visiting has children. If it has, we move to the child node that ocntains our desired location and repeat the process. We stop only if the node does not have any children, meaning that's our desired node(grid).\n",
    "\n",
    "#### How will we find neighboring grids of a given grid?\n",
    "**Approach 1:** Since our leaf nodes contain a list of locations, we can connect all leaf nodes with a doubly linked list. This way we can iterate forward or backwards among neighbouring lead nodes to find out our desired driver locations.\n",
    "\n",
    "**Approach 2:** Find it through parent nodes. We can keep a pointer in each node to access its parent, and since each parent node has pointers to all its children, we can easily find siblings of a node. We can keep expanding our seach for neighboring grids by going up through parent pointers.\n",
    "\n",
    "Issues with our Dynamic Grid solution:\n",
    "\n",
    "* Since all active drivers are reporting their locations every 3 seconds, we need to update the QuadTree to reflect that. It will take a lot of time and resources if we have to update it for every change in the driver's coordinates.\n",
    "* If the new position does not belong in the current grid, we have to remove the driver from the current grid and remove/reinsert the user to the correct grid. After this move, if the new grid reaches the maximum limit of drivers, we have to repartition it.\n",
    "* We need to have a quick mechanism to propagate the current location of all nearby drivers to any active customer in that area. Also, when a ride is in progress, our system needs to notify both the driver and passenger about the current location of the car.\n",
    "\n",
    "> Although our QuadTree helps us find nearby drivers quickly, a fast update in the tree is not guaranteed.\n",
    "\n",
    "#### Do we need to modify our QuadTree every time a driver reports their location? \n",
    "If we dont, it will have some old data and this won't reflect the current location of drivers correctly. Since all active drivers report their location every 3 seconds, there will be a lot more updates happening to our tree than querying for nearby drivers.\n",
    "\n",
    "Enter hash table!\n",
    "\n",
    "> We can keep the latest position reported by all drivers in a hash table and update our QuadTree a little less frequently. \n",
    "\n",
    "Let's assume we guarantee that a driver's current location will be reflected in the QuadTree within 15 seconds. Meanwhile we will maintain a hash table that will store the current location reported by drivers; let's call this **DriverLocationHT**.\n",
    "\n",
    "#### How much memory do we need for DriverLocationHT? \n",
    "We need to store DriverID, their present and old location, in the hash table. So we need a total of 35 bytes to store one record.\n",
    "\n",
    "1. DriverID (3 bytes - 1 million drivers)\n",
    "2. Old latitude  (8 bytes)\n",
    "3. Old longitude (8 bytes)\n",
    "4. New latitude  (8 bytes)\n",
    "5 New longitube  (8 bytes) Total ==> 35 bytes\n",
    "\n",
    "If we have one million drivers, we need:\n",
    "\n",
    "```\n",
    "1 million * 35 bytes ==> 35MB (ignoring hash table overhead)\n",
    "```\n",
    "\n",
    "#### How much Bandwidth?\n",
    "To receive location updates from all active drivers, we get DriverID and their location (3 + 16 bytes => 19 bytes). We do this every 3 seconds from 500 active drivers:\n",
    "```\n",
    "19 bytes * 500K drivers ==> 9.5MB per 3 sec.\n",
    "```"
   ]
  },
  {
   "cell_type": "markdown",
   "metadata": {},
   "source": [
    "### Do we need to distribute DriverLocationHT Hash Table onto multiple servers?\n",
    "The memory and bandwidth requirements can be easily handled by one server, but for scalability, performance, and fault tolerance, we should distribute DriverLocationHT onto multiple servers. We can distribute beased the DriverID to make the distribution completely random. Let's call the machines holding DriverlocationHt the Driver location servers.\n",
    "\n",
    "The servers will:\n",
    "1. As soon as they receive driver location update, broadcast that information to all interested customers.\n",
    "2. Notify the respective QuadTree server to refresh the driver's location. This happens every 15 seconds.\n"
   ]
  },
  {
   "cell_type": "markdown",
   "metadata": {},
   "source": [
    "### Broadcasting driver's location to customers\n",
    "We can have a **Push Model** where the server pushes all the positions to all the relevant customers. \n",
    "- A dedicated Notification Service that can broadcast current locations of drivers to all the interested customers. \n",
    "- Build our Notification service on a publisher/subscriber model. When a customer opens Uber app, they query the server to find nearby drivers. On the back-end, before returning the list of drivers to the customer, we subscribe the customer for all the updates from those nearby drivers.\n",
    "- We can maintain a list of customers interested in knowing the driver location and whernever we have an update in DriverLocationHT for that driver, we can broadcast the current location of the driver to all subscribed customers. This way, our system ensures that we always show the driver's current position to the customer."
   ]
  },
  {
   "cell_type": "code",
   "execution_count": null,
   "metadata": {},
   "outputs": [],
   "source": []
  }
 ],
 "metadata": {
  "kernelspec": {
   "display_name": "Python 3",
   "language": "python",
   "name": "python3"
  },
  "language_info": {
   "codemirror_mode": {
    "name": "ipython",
    "version": 3
   },
   "file_extension": ".py",
   "mimetype": "text/x-python",
   "name": "python",
   "nbconvert_exporter": "python",
   "pygments_lexer": "ipython3",
   "version": "3.6.5"
  }
 },
 "nbformat": 4,
 "nbformat_minor": 2
}
