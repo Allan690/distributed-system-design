{
 "cells": [
  {
   "cell_type": "markdown",
   "metadata": {},
   "source": [
    "# Designing Uber Backend\n",
    "Let's design a ride-sharing service like Uber, connecting a passenger who needs a ride with a driver who has a car.\n",
    "\n",
    "Uber enables its customers to book drivers for taxi rides. Uber drivers use their cars to driver customers around. Both customers and drivers communicate with each other through their smartphones using the Uber app.\n",
    "\n",
    "Similar Services: Lyft"
   ]
  },
  {
   "cell_type": "markdown",
   "metadata": {},
   "source": [
    "## 1. Requirements and Goals of the System\n",
    "\n",
    "There are two types of users in our system: Drivers and Customers.\n",
    "\n",
    "- Drivers need to regularly notify the service about their current location and their availability to pick passengers\n",
    "- Passengers get to see all the nearby available drivers\n",
    "- Customers can request a ride; this notifies nearby drivers that a customer is ready to be picked up\n",
    "- Once a driver and a customer accept a ride, they acan constantly see each other's current location until the trip finishes.\n",
    "- Upon reaching the destination, the driver marks the journey complete to be available for the next ride.\n"
   ]
  },
  {
   "cell_type": "markdown",
   "metadata": {},
   "source": [
    "## 2. Capacity Estimation and Constraints\n",
    "- Assume we have 300 million customers and 1 million daily active customers, and 500K daily active drivers.\n",
    "- Assume 1 million daily rides\n",
    "- Let's assume that all active drivers notify their current location every 3 seconds.\n",
    "- Once a customer puts in a request for a ride, the system should be able to contact drivers in real-time."
   ]
  },
  {
   "cell_type": "code",
   "execution_count": null,
   "metadata": {},
   "outputs": [],
   "source": []
  }
 ],
 "metadata": {
  "kernelspec": {
   "display_name": "Python 3",
   "language": "python",
   "name": "python3"
  },
  "language_info": {
   "codemirror_mode": {
    "name": "ipython",
    "version": 3
   },
   "file_extension": ".py",
   "mimetype": "text/x-python",
   "name": "python",
   "nbconvert_exporter": "python",
   "pygments_lexer": "ipython3",
   "version": "3.6.5"
  }
 },
 "nbformat": 4,
 "nbformat_minor": 2
}
