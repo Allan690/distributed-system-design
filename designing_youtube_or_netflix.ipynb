{
 "cells": [
  {
   "cell_type": "markdown",
   "metadata": {},
   "source": [
    "# Designing Youtube or Netflix\n",
    "Let's design a video sharing service like Youtube where users will be able to upload/view/search videos.\n",
    "\n",
    "Similar Services: Netflix, Vimeo"
   ]
  },
  {
   "cell_type": "markdown",
   "metadata": {},
   "source": [
    "## 1. Requirements and Goals of the System\n",
    "\n",
    "#### Functional Requirements:\n",
    "1. Users should be able to upload videos.\n",
    "2. Users should have ability to share and view videos.\n",
    "3. Users should be able to perform searches based on video titles.\n",
    "4. Service should have starts on videos, e.g likes/dislikes, no. of views, etc.\n",
    "5. Users should be able to add and view comments on videos\n",
    "\n",
    "\n",
    "#### Non-Functional Requirements:\n",
    "- System should be highly reliable, any video uploaded should never be lost.\n",
    "- System should be highly available.\n",
    "- Users should have a real time experience while watching videos and shoult not feel any lag.\n"
   ]
  },
  {
   "cell_type": "markdown",
   "metadata": {},
   "source": [
    "## 2. Capacity Estimation and Constraints\n",
    "\n",
    "Assume we have 1 billion total users, 800 million daily active. If on average a user views 5 videos per day, then the total video views per second is:\n",
    "\n",
    "```\n",
    "800000000 * 5 / (60 * 60 * 24) ==> ~46000 videos/sec\n",
    "```\n",
    "\n",
    "Now, let's assume our upload:view ratio is 1:200 (For every video upload, we have 200 videos viewed)\n",
    "The number of videos uploaded per second is:\n",
    "\n",
    "```\n",
    "46000 / 200 => 230 videos/sec\n",
    "```\n",
    "\n",
    "\n",
    "**Storage Estimates:** Lets assume 500 hours of video per minute are uploaeded. If on average, one minute of video needs 50MB of storage(videos need to be stored in multiple formats), then total storage is:\n",
    "\n",
    "```\n",
    "500 hours * 60 min * 50 MB => 1500 GB/min OR 25GB/sec\n",
    "```\n",
    "\n",
    "We are ignoring video compression and replication, which would change our storage estimates.\n",
    "\n",
    "**Bandwidth Estimates:** 500 videos/min of uploads, and assuming each video takes a bandwidth of 10 MB/min, we would be getting:\n",
    "\n",
    "```\n",
    "500 hours * 60 mins * 10 MB ==> 300 GB/min == 5GB/sec\n",
    "```\n",
    "\n",
    "With upload:view ratio being 1:200, we would need \n",
    "`200 * 5GB/sec ==> 1TB/s` outgoing bandwidth."
   ]
  },
  {
   "cell_type": "markdown",
   "metadata": {},
   "source": []
  },
  {
   "cell_type": "code",
   "execution_count": null,
   "metadata": {},
   "outputs": [],
   "source": []
  }
 ],
 "metadata": {
  "kernelspec": {
   "display_name": "Python 3",
   "language": "python",
   "name": "python3"
  },
  "language_info": {
   "codemirror_mode": {
    "name": "ipython",
    "version": 3
   },
   "file_extension": ".py",
   "mimetype": "text/x-python",
   "name": "python",
   "nbconvert_exporter": "python",
   "pygments_lexer": "ipython3",
   "version": "3.6.5"
  }
 },
 "nbformat": 4,
 "nbformat_minor": 2
}
