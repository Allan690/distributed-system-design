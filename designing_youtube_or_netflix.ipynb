{
 "cells": [
  {
   "cell_type": "markdown",
   "metadata": {},
   "source": [
    "# Designing Youtube or Netflix\n",
    "Let's design a video sharing service like Youtube where users will be able to upload/view/search videos.\n",
    "\n",
    "Similar Services: Netflix, Vimeo"
   ]
  },
  {
   "cell_type": "markdown",
   "metadata": {},
   "source": [
    "## 1. Requirements and Goals of the System\n",
    "\n",
    "#### Functional Requirements:\n",
    "1. Users should be able to upload videos.\n",
    "2. Users should have ability to share and view videos.\n",
    "3. Users should be able to perform searches based on video titles.\n",
    "4. Service should have starts on videos, e.g likes/dislikes, no. of views, etc.\n",
    "5. Users should be able to add and view comments on videos\n",
    "\n",
    "\n",
    "#### Non-Functional Requirements:\n",
    "- System should be highly reliable, any video uploaded should never be lost.\n",
    "- System should be highly available.\n",
    "- Users should have a real time experience while watching videos and shoult not feel any lag.\n"
   ]
  },
  {
   "cell_type": "markdown",
   "metadata": {},
   "source": [
    "## 2. Capacity Estimation and Constraints\n",
    "\n",
    "Assume we have 1 billion total users, 800 million daily active. If on average a user views 5 videos per day, then the total video views per second is:\n",
    "\n",
    "```\n",
    "800000000 * 5 / (60 * 60 * 24) ==> ~46000 videos/sec\n",
    "```\n",
    "\n",
    "Now, let's assume our upload:view ratio is 1:200 (For every video upload, we have 200 videos viewed)\n",
    "The number of videos uploaded per second is:\n",
    "\n",
    "```\n",
    "46000 / 200 => 230 videos/sec\n",
    "```\n",
    "\n",
    "\n",
    "**Storage Estimates:** Lets assume 500 hours of video per minute are uploaeded. If on average, one minute of video needs 50MB of storage(videos need to be stored in multiple formats), then total storage is:\n",
    "\n",
    "```\n",
    "500 hours * 60 min * 50 MB => 1500 GB/min OR 25GB/sec\n",
    "```\n",
    "\n",
    "We are ignoring video compression and replication, which would change our storage estimates.\n",
    "\n",
    "**Bandwidth Estimates:** 500 videos/min of uploads, and assuming each video takes a bandwidth of 10 MB/min, we would be getting:\n",
    "\n",
    "```\n",
    "500 hours * 60 mins * 10 MB ==> 300 GB/min == 5GB/sec\n",
    "```\n",
    "\n",
    "With upload:view ratio being 1:200, we would need \n",
    "`200 * 5GB/sec ==> 1TB/s` outgoing bandwidth."
   ]
  },
  {
   "cell_type": "markdown",
   "metadata": {},
   "source": [
    "## 3. System APIs\n",
    "We can have a RESTful API to expose the functionality of our service.\n",
    "\n",
    "#### Uploading a video\n",
    "```python\n",
    "upload_video(\n",
    "    api_dev_key,  # (string): API developer key of registered account.\n",
    "    video_title,  # (string): Title of the video.\n",
    "    video_desc,   # (string): Optional description of video.\n",
    "    tags,         # (string): Optional tags for the video.\n",
    "    category_id,  # (string): Category of the video, e.g Song, Docuseries, etc.\n",
    "    default_language,   # (string): English, Mandarin, Fr, etc.\n",
    "    recording_details,  # (string): Location where video was recorded.\n",
    "    video_contents      # (stream): Video to be uploaded.\n",
    ")\n",
    "\n",
    "```\n",
    "Returns:\n",
    "(string):\n",
    "A successful upload will return HTTP 202 (request accepted) and once the video encoding is completed the user is notified through email with a link to access the video.\n",
    "\n",
    "#### Searching video\n",
    "```python\n",
    "search_video(\n",
    "    api_dev_key,\n",
    "    search_query,   # (string): containing the search term\n",
    "    user_location,  # (string): optional location of user performing search\n",
    "    maximum_videos_to_return,  # (number): max number of results returned in one request\n",
    "    page_token      # (string): This token specifies a page in the result set to be returned\n",
    ")\n",
    "```\n",
    "Returns: (JSON)\n",
    "\n",
    "A JSON containing informaiton about the list of video resources matching the search query.\n",
    "Each resource will have a video title, a video creation date, and a view count.\n",
    "\n",
    "#### Streaming video\n",
    "```python\n",
    "stream_video(\n",
    "    api_dev_key, \n",
    "    video_id,   # (string): unique ID of the video\n",
    "    offset,     # (number): time in offset from the beginning of the video. If we support\n",
    "                # pausing a video from multiple devices, we need to store the offset.\n",
    "                # This enables the user to pick up watching a video where they left from.\n",
    "    codec,      # (string): \n",
    "    resolution  # (string): Imagine watching a video on TV app, pausing it, then resuming on\n",
    "                # Netflix mobile app, you'll need codec and resolution, as both devices have\n",
    "                # different resolution and use a different codec.\n",
    ")\n",
    "```\n",
    "Returns: (STREAM)\n",
    "A media stream (video chunk) from the given offset.\n"
   ]
  },
  {
   "cell_type": "markdown",
   "metadata": {},
   "source": [
    "## High Level Design\n",
    "At a high-level we would need the following components:\n",
    "1. **Processing Queue:**: Each uploaded video will be pushed to a processing queue ot be de-queued later for encoding, thumbnail generation, and storage.\n",
    "2. **Encoder:** To encode each uploaded video into multiple formats.\n",
    "3. **Thumbnails generator:** To generate thumbnails for each video.\n",
    "4. **Video and Thumbnail storage:** To store video and thumbnail files in some distributed file storage.\n",
    "5. **User DB:** To store user's info e.g name, email, address, etc.\n",
    "6. **Video metadata storage:** A metadata DB to store information about videos like title, its file path, uploading user, total views, likes, comments etc. \n",
    "\n",
    "![](images/hld_youtube.png)"
   ]
  },
  {
   "cell_type": "markdown",
   "metadata": {},
   "source": [
    "## Database Schema\n",
    "\n",
    "#### Video metadata storage - MySQL"
   ]
  }
 ],
 "metadata": {
  "kernelspec": {
   "display_name": "Python 3",
   "language": "python",
   "name": "python3"
  },
  "language_info": {
   "codemirror_mode": {
    "name": "ipython",
    "version": 3
   },
   "file_extension": ".py",
   "mimetype": "text/x-python",
   "name": "python",
   "nbconvert_exporter": "python",
   "pygments_lexer": "ipython3",
   "version": "3.6.5"
  }
 },
 "nbformat": 4,
 "nbformat_minor": 2
}
